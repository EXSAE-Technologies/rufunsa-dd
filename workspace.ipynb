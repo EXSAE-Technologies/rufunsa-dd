{
 "cells": [
  {
   "cell_type": "code",
   "execution_count": 1,
   "metadata": {},
   "outputs": [],
   "source": [
    "import pandas"
   ]
  },
  {
   "cell_type": "code",
   "execution_count": 2,
   "metadata": {},
   "outputs": [
    {
     "name": "stdout",
     "output_type": "stream",
     "text": [
      "                            start                            end  \\\n",
      "0   2022-04-08T12:04:11.792+02:00  2022-04-08T12:58:13.822+02:00   \n",
      "1   2022-04-07T13:54:51.715+02:00  2022-04-08T12:24:14.860+02:00   \n",
      "2   2022-04-08T10:50:41.337+02:00  2022-04-08T11:25:26.544+02:00   \n",
      "3   2022-04-08T11:05:17.514+02:00  2022-04-08T11:30:29.233+02:00   \n",
      "4   2022-04-08T11:28:18.202+02:00  2022-04-08T11:50:41.792+02:00   \n",
      "..                            ...                            ...   \n",
      "89  2022-04-08T13:49:11.685+02:00  2022-04-08T14:04:47.195+02:00   \n",
      "90  2022-04-08T12:09:44.950+02:00  2022-04-08T12:39:06.217+02:00   \n",
      "91  2022-04-08T12:39:13.733+02:00  2022-04-08T13:10:27.389+02:00   \n",
      "92  2022-04-08T13:10:34.158+02:00  2022-04-08T13:35:14.789+02:00   \n",
      "93  2022-04-08T13:35:40.517+02:00  2022-04-08T14:03:57.416+02:00   \n",
      "\n",
      "    Questionnaire No        Date Name of data collector: Province District  \\\n",
      "0                  6  2022-04-08           Naomi makando   Lusaka  Rufunsa   \n",
      "1                  1  2022-04-08                       N   Lusaka  Rufunsa   \n",
      "2                  1  2022-04-08       Agnes's and Gift    Lusaka  Rufunsa   \n",
      "3                  3  2022-04-08                       N   Lusaka  Rufunsa   \n",
      "4                  2  2022-04-08           Nyambe Lubasi   Lusaka  Rufunsa   \n",
      "..               ...         ...                     ...      ...      ...   \n",
      "89                41  2022-04-08           Naomi Makando   Lusaka  Rufunsa   \n",
      "90                 7  2022-04-08          Royce chipindi   Lusaka  Rufunsa   \n",
      "91                11  2022-04-08          Royce chipindi   Lusaka  Rufunsa   \n",
      "92                12  2022-04-08          Royce chipindi   Lusaka  Rufunsa   \n",
      "93                28  2022-04-08          Royce chipindi   Lusaka  Rufunsa   \n",
      "\n",
      "           Ward   Village  \\\n",
      "0       Rufunsa   Chiwala   \n",
      "1   Bunda Bunda  Shibango   \n",
      "2       Rufunsa  Chibango   \n",
      "3   Bunda Bunda  Shatubi    \n",
      "4   Bunda Bunda  Chibango   \n",
      "..          ...       ...   \n",
      "89      Rufunsa   Chiwala   \n",
      "90      Rufunsa   Chiwala   \n",
      "91      Rufunsa   Chiwala   \n",
      "92      Rufunsa   Chiwala   \n",
      "93      Rufunsa   Chiwala   \n",
      "\n",
      "   Hello. We are from the University of Zambia (UNZA). We are gathering information about Minimum Dietary Diversity for Infants and Young Children (MDD-IYCF).  The aim of the study is to know how many children meet the minimum dietary diversity criteria amid the Covid-19 Pandemic.  we would to ask about the diet of children aged 6 to 23 months.  We will also measure the children and take their urine sample.  This activity will take about one hour.  The benefit of taking part in this is contribute to better inform government policies and programmes as well as the community activities.  You have the write to participate in the study and stop at any time.  Refusing to answer will not affect your family's health services.  You may skip any questions that you don't want to answer. Although the interview is conducted using tablets, the information you provide to us will be confidentially and aggregated anonymously with others' responses to be used for for research purpose and produce global guidance.  Any information that identifies you personally will not be shared be shared with any one outside the study team.  I hope you agree to participate in the study since your honest information is very important.  If you have any concerns about this study please call the field supervisor Ms Priscilla Funduluka Cell 0977822963.  \\\n",
      "0                                                 Yes                                                                                                                                                                                                                                                                                                                                                                                                                                                                                                                                                                                                                                                                                                                                                                                                                                                                                                                                                                                                                                                                                                                                                                                                                                                                                                                                    \n",
      "1                                                 Yes                                                                                                                                                                                                                                                                                                                                                                                                                                                                                                                                                                                                                                                                                                                                                                                                                                                                                                                                                                                                                                                                                                                                                                                                                                                                                                                                    \n",
      "2                                                 Yes                                                                                                                                                                                                                                                                                                                                                                                                                                                                                                                                                                                                                                                                                                                                                                                                                                                                                                                                                                                                                                                                                                                                                                                                                                                                                                                                    \n",
      "3                                                 Yes                                                                                                                                                                                                                                                                                                                                                                                                                                                                                                                                                                                                                                                                                                                                                                                                                                                                                                                                                                                                                                                                                                                                                                                                                                                                                                                                    \n",
      "4                                                 Yes                                                                                                                                                                                                                                                                                                                                                                                                                                                                                                                                                                                                                                                                                                                                                                                                                                                                                                                                                                                                                                                                                                                                                                                                                                                                                                                                    \n",
      "..                                                ...                                                                                                                                                                                                                                                                                                                                                                                                                                                                                                                                                                                                                                                                                                                                                                                                                                                                                                                                                                                                                                                                                                                                                                                                                                                                                                                                    \n",
      "89                                                Yes                                                                                                                                                                                                                                                                                                                                                                                                                                                                                                                                                                                                                                                                                                                                                                                                                                                                                                                                                                                                                                                                                                                                                                                                                                                                                                                                    \n",
      "90                                                Yes                                                                                                                                                                                                                                                                                                                                                                                                                                                                                                                                                                                                                                                                                                                                                                                                                                                                                                                                                                                                                                                                                                                                                                                                                                                                                                                                    \n",
      "91                                                Yes                                                                                                                                                                                                                                                                                                                                                                                                                                                                                                                                                                                                                                                                                                                                                                                                                                                                                                                                                                                                                                                                                                                                                                                                                                                                                                                                    \n",
      "92                                                Yes                                                                                                                                                                                                                                                                                                                                                                                                                                                                                                                                                                                                                                                                                                                                                                                                                                                                                                                                                                                                                                                                                                                                                                                                                                                                                                                                    \n",
      "93                                                Yes                                                                                                                                                                                                                                                                                                                                                                                                                                                                                                                                                                                                                                                                                                                                                                                                                                                                                                                                                                                                                                                                                                                                                                                                                                                                                                                                    \n",
      "\n",
      "    ...           _version__002        _id  \\\n",
      "0   ...  vxLYreGMCsbCe8AVmW8b3F  150962474   \n",
      "1   ...  vxLYreGMCsbCe8AVmW8b3F  150963356   \n",
      "2   ...  vxLYreGMCsbCe8AVmW8b3F  150963359   \n",
      "3   ...  vxLYreGMCsbCe8AVmW8b3F  150963366   \n",
      "4   ...  vxLYreGMCsbCe8AVmW8b3F  150963369   \n",
      "..  ...                     ...        ...   \n",
      "89  ...  vxLYreGMCsbCe8AVmW8b3F  151022585   \n",
      "90  ...  vxLYreGMCsbCe8AVmW8b3F  151036046   \n",
      "91  ...  vxLYreGMCsbCe8AVmW8b3F  151036049   \n",
      "92  ...  vxLYreGMCsbCe8AVmW8b3F  151036051   \n",
      "93  ...  vxLYreGMCsbCe8AVmW8b3F  151036053   \n",
      "\n",
      "                                   _uuid     _submission_time  \\\n",
      "0   045a00fc-9246-4164-b9ba-18b5faf13aa6  2022-04-08T11:01:16   \n",
      "1   4c53ea8a-1dc9-40d3-a3b7-9787b0377748  2022-04-08T11:06:21   \n",
      "2   db0f52d9-a0d2-4274-8739-620d1db52f62  2022-04-08T11:06:22   \n",
      "3   242d90b0-3b04-4d0b-bfeb-5ffc60f7af91  2022-04-08T11:06:22   \n",
      "4   51fd3c89-c04e-4d09-9ad6-df823d746c28  2022-04-08T11:06:23   \n",
      "..                                   ...                  ...   \n",
      "89  bb0e390b-50e9-45fa-90a9-d02afc831045  2022-04-08T16:04:50   \n",
      "90  aaf5a605-bddc-4276-a762-a3486f0e549d  2022-04-08T17:32:52   \n",
      "91  fd0dbfd4-2344-43fe-b180-ba8edc6f87a4  2022-04-08T17:32:54   \n",
      "92  34174b2a-23be-48ca-81a2-b8851dacb965  2022-04-08T17:32:56   \n",
      "93  a83eb7c8-b588-4410-bc49-c188e5ef03ea  2022-04-08T17:32:58   \n",
      "\n",
      "   _validation_status _notes            _status _submitted_by _tags _index  \n",
      "0                 NaN    NaN  submitted_via_web    pfunduluka   NaN      1  \n",
      "1                 NaN    NaN  submitted_via_web    pfunduluka   NaN      2  \n",
      "2                 NaN    NaN  submitted_via_web    pfunduluka   NaN      3  \n",
      "3                 NaN    NaN  submitted_via_web    pfunduluka   NaN      4  \n",
      "4                 NaN    NaN  submitted_via_web    pfunduluka   NaN      5  \n",
      "..                ...    ...                ...           ...   ...    ...  \n",
      "89                NaN    NaN  submitted_via_web    pfunduluka   NaN     90  \n",
      "90                NaN    NaN  submitted_via_web    pfunduluka   NaN     91  \n",
      "91                NaN    NaN  submitted_via_web    pfunduluka   NaN     92  \n",
      "92                NaN    NaN  submitted_via_web    pfunduluka   NaN     93  \n",
      "93                NaN    NaN  submitted_via_web    pfunduluka   NaN     94  \n",
      "\n",
      "[94 rows x 202 columns]\n"
     ]
    }
   ],
   "source": [
    "df = pandas.read_csv('raw.csv')\n",
    "print(df)"
   ]
  }
 ],
 "metadata": {
  "interpreter": {
   "hash": "b9e4fbc8c7a4aa08e9a319d78a830752f0aac26b00e1a4fb3aed9b4158de088a"
  },
  "kernelspec": {
   "display_name": "Python 3.9.2 ('env': venv)",
   "language": "python",
   "name": "python3"
  },
  "language_info": {
   "codemirror_mode": {
    "name": "ipython",
    "version": 3
   },
   "file_extension": ".py",
   "mimetype": "text/x-python",
   "name": "python",
   "nbconvert_exporter": "python",
   "pygments_lexer": "ipython3",
   "version": "3.9.2"
  },
  "orig_nbformat": 4
 },
 "nbformat": 4,
 "nbformat_minor": 2
}
